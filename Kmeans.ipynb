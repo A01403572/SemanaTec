{
 "cells": [
  {
   "cell_type": "code",
   "execution_count": null,
   "id": "97cc36d0",
   "metadata": {},
   "outputs": [],
   "source": [
    "\n",
    "import pandas as pd\n",
    "from sklearn.cluster import KMeans\n",
    "from sklearn.compose import ColumnTransformer\n",
    "from sklearn.preprocessing import StandardScaler, OneHotEncoder\n",
    "from sklearn.decomposition import PCA\n",
    "import matplotlib.pyplot as plt\n",
    "import seaborn as sns"
   ]
  },
  {
   "cell_type": "code",
   "execution_count": null,
   "id": "b9ee3add",
   "metadata": {},
   "outputs": [],
   "source": [
    "df = pd.read_csv(\"FINAL_FROM_DF.csv\")"
   ]
  },
  {
   "cell_type": "code",
   "execution_count": null,
   "id": "7e0c3d2a",
   "metadata": {},
   "outputs": [],
   "source": [
    "\n",
    "df.head()"
   ]
  },
  {
   "cell_type": "code",
   "execution_count": null,
   "id": "8a9cabbd",
   "metadata": {},
   "outputs": [],
   "source": [
    "numerical_columns = []\n",
    "categorical_columns = []\n",
    "for column in df.columns:\n",
    "    if df[column].dtype == 'object':\n",
    "        categorical_columns.append(column)\n",
    "    else:\n",
    "        numerical_columns.append(column)"
   ]
  },
  {
   "cell_type": "code",
   "execution_count": null,
   "id": "79309eaa",
   "metadata": {},
   "outputs": [],
   "source": [
    "preprocessor = ColumnTransformer([\n",
    "    (\"num\", StandardScaler(), numerical_columns),\n",
    "    (\"cat\", OneHotEncoder(), categorical_columns)\n",
    "])"
   ]
  },
  {
   "cell_type": "code",
   "execution_count": null,
   "id": "df8b85b8",
   "metadata": {},
   "outputs": [],
   "source": [
    "X = preprocessor.fit_transform(df)"
   ]
  },
  {
   "cell_type": "code",
   "execution_count": null,
   "id": "8d7cac19",
   "metadata": {},
   "outputs": [],
   "source": [
    "inertias = []\n",
    "for k in range(1, 11):\n",
    "    kmeans = KMeans(n_clusters=k, random_state=42)\n",
    "    kmeans.fit(X)\n",
    "    inertias.append(kmeans.inertia_)\n",
    "    diff = inertias[-2] - inertias[-1] if k > 1 else 0\n",
    "    print(f'K={k}, Inercia = {kmeans.inertia_:,.6f} - Diferencia = {diff:,.6f}')"
   ]
  },
  {
   "cell_type": "code",
   "execution_count": null,
   "id": "60720456",
   "metadata": {},
   "outputs": [],
   "source": [
    "sns.lineplot(x=range(1, 11), y=inertias, marker=\"o\")\n",
    "plt.xlabel(\"Número de clusters (k)\")\n",
    "plt.ylabel(\"Inercia (SSE - Suma de errores al cuadrado)\")\n",
    "plt.title(\"Método del codo para determinar el número óptimo de clusters\")\n",
    "plt.xticks(range(1, 11))\n",
    "plt.grid()\n",
    "plt.show()"
   ]
  },
  {
   "cell_type": "code",
   "execution_count": null,
   "id": "3b426df2",
   "metadata": {},
   "outputs": [],
   "source": [
    "kmeans = KMeans(n_clusters=5, random_state=42)\n",
    "kmeans.fit(X)\n",
    "df[\"Cluster\"] = kmeans.labels_\n",
    "df.head()"
   ]
  },
  {
   "cell_type": "code",
   "execution_count": null,
   "id": "3d670bd3",
   "metadata": {},
   "outputs": [],
   "source": [
    "pca = PCA(n_components=2)\n",
    "X_pca = pca.fit_transform(X)"
   ]
  },
  {
   "cell_type": "code",
   "execution_count": null,
   "id": "b6db5846",
   "metadata": {},
   "outputs": [],
   "source": [
    "sns.scatterplot(x=X_pca[:, 0], y=X_pca[:, 1], hue=df[\"Cluster\"])\n",
    "plt.title(\"Visualización de clusters con PCA\")\n",
    "plt.show()"
   ]
  },
  {
   "cell_type": "code",
   "execution_count": null,
   "id": "0c0b562d",
   "metadata": {},
   "outputs": [],
   "source": [
    "df[\"Cluster\"].value_counts()"
   ]
  },
  {
   "cell_type": "code",
   "execution_count": null,
   "id": "c33b0843",
   "metadata": {},
   "outputs": [],
   "source": [
    "\n",
    "df[numerical_columns + [\"Cluster\"]].groupby(\"Cluster\").mean()"
   ]
  },
  {
   "cell_type": "code",
   "execution_count": null,
   "id": "16b9a8ca",
   "metadata": {},
   "outputs": [],
   "source": [
    "df[categorical_columns + [\"Cluster\"]].groupby(\"Cluster\").agg(lambda x: x.mode()[0])"
   ]
  },
  {
   "cell_type": "code",
   "execution_count": null,
   "id": "d84a818f",
   "metadata": {},
   "outputs": [],
   "source": [
    "sns.barplot(df, x=\"Cluster\", y=\"TOTALTRADES\", estimator=\"mean\")"
   ]
  },
  {
   "cell_type": "code",
   "execution_count": null,
   "id": "a537c4d0",
   "metadata": {},
   "outputs": [],
   "source": [
    "\n",
    "sns.scatterplot(df, x=\"OPEN\", y=\"CLOSE\", hue=\"Cluster\")"
   ]
  }
 ],
 "metadata": {
  "kernelspec": {
   "display_name": "SemanaTec",
   "language": "python",
   "name": "python3"
  },
  "language_info": {
   "codemirror_mode": {
    "name": "ipython",
    "version": 3
   },
   "file_extension": ".py",
   "mimetype": "text/x-python",
   "name": "python",
   "nbconvert_exporter": "python",
   "pygments_lexer": "ipython3",
   "version": "3.13.9"
  }
 },
 "nbformat": 4,
 "nbformat_minor": 5
}
